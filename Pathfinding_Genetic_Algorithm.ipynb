{
  "nbformat": 4,
  "nbformat_minor": 0,
  "metadata": {
    "colab": {
      "name": "Pathfinding Genetic Algorithm.ipynb",
      "version": "0.3.2",
      "provenance": [],
      "collapsed_sections": []
    },
    "language_info": {
      "codemirror_mode": {
        "name": "ipython",
        "version": 3
      },
      "file_extension": ".py",
      "mimetype": "text/x-python",
      "name": "python",
      "nbconvert_exporter": "python",
      "pygments_lexer": "ipython3",
      "version": "3.7.4-final"
    },
    "kernelspec": {
      "display_name": "Python 3",
      "language": "python",
      "name": "python3"
    }
  },
  "cells": [
    {
      "cell_type": "code",
      "execution_count": 1,
      "metadata": {},
      "outputs": [
        {
          "data": {
            "text/plain": "'\\nCreated in May  2019\\n\\n@author: jaltes98\\n@author: jorgedelpozolerida\\n\\n'"
          },
          "execution_count": 1,
          "metadata": {},
          "output_type": "execute_result"
        }
      ],
      "source": [
        "\"\"\"\n",
        "Created in May  2019\n",
        "\n",
        "@author: jaltes98\n",
        "@author: jorgedelpozolerida\n",
        "\n",
        "\"\"\""
      ]
    },
    {
      "cell_type": "markdown",
      "metadata": {
        "colab_type": "text",
        "id": "FH-CR9i-PygU"
      },
      "source": [
        "## Import modules"
      ]
    },
    {
      "cell_type": "markdown",
      "metadata": {
        "colab_type": "text",
        "id": "Be7DEjIBQBCa"
      },
      "source": [
        "## Function that runs the chromosome (genotype) to obtain its solution (phenotype)"
      ]
    },
    {
      "cell_type": "code",
      "execution_count": 0,
      "metadata": {
        "colab": {},
        "colab_type": "code",
        "id": "eg4bHa0LIbjc"
      },
      "outputs": [],
      "source": [
        "import numpy as np\n",
        "import random as rd\n",
        "from numpy.random import choice"
      ]
    },
    {
      "cell_type": "code",
      "execution_count": 0,
      "metadata": {
        "colab": {},
        "colab_type": "code",
        "id": "qrzdX4OLIbji"
      },
      "outputs": [],
      "source": [
        "def run(chromosome,maze,initial_position,final_position): #input chromosome and maze to solve \n",
        "    \n",
        "    position=initial_position.copy()\n",
        "    \n",
        "    for i in range(int(len(chromosome)/2)): #for each gene updates the position if the spot is empty \n",
        "        if (chromosome[(2*i):(2*i+2)])=='00':\n",
        "            if (maze[position[0]][position[1]-1])!=1:\n",
        "                position[1]+=-1\n",
        "        elif (chromosome[(2*i):(2*i+2)])=='10':\n",
        "            if (maze[position[0]-1][position[1]])!=1:\n",
        "                position[0]+=-1\n",
        "        elif (chromosome[(2*i):(2*i+2)])=='01':\n",
        "            if (maze[position[0]+1][position[1]])!=1:\n",
        "                position[0]+=1\n",
        "        elif (chromosome[(2*i):(2*i+2)])=='11':\n",
        "            if (maze[position[0]][position[1]+1])!=1:\n",
        "                position[1]+=1\n",
        "                \n",
        "        if position==final_position: #in case it solves the maze output True, number of steps and the chromosome (not needed but helpful)\n",
        "            return True,i,chromosome \n",
        "        \n",
        "    else:\n",
        "            return False,position,chromosome #if it does not solve it instead of number of steps return final position"
      ]
    },
    {
      "cell_type": "markdown",
      "metadata": {
        "colab_type": "text",
        "id": "9NSfb7U1RGgs"
      },
      "source": [
        "## Functions to create a random chromosome and a population"
      ]
    },
    {
      "cell_type": "code",
      "execution_count": 0,
      "metadata": {
        "colab": {},
        "colab_type": "code",
        "id": "H5__QcBLIbjm"
      },
      "outputs": [],
      "source": [
        "def random_chromosome(length_elements):   #input length of the chromosome (twice the number of maximum steps)\n",
        "    \n",
        "    if length_elements % 2 ==0:  #make sure length is even\n",
        "        chrom=''\n",
        "        for i in range(length_elements): #update the chain with random binary until desired length\n",
        "            chrom=chrom+str(rd.randint(0,1)) \n",
        "            \n",
        "        return chrom #output chromosome\n",
        "    \n",
        "    else:\n",
        "        print ('Please enter multiple of 2 as length of strands')"
      ]
    },
    {
      "cell_type": "code",
      "execution_count": 0,
      "metadata": {
        "colab": {},
        "colab_type": "code",
        "id": "rXIzvm9jIbjp"
      },
      "outputs": [],
      "source": [
        "def initial_population(numb_elements,length_elements): #input number of chromosomes and its length\n",
        "    \n",
        "    population=[]\n",
        "    for i in range(numb_elements): #update population until desired number\n",
        "        population.append(random_chromosome(length_elements))\n",
        "        \n",
        "    return population #output pupolation"
      ]
    },
    {
      "cell_type": "markdown",
      "metadata": {
        "colab_type": "text",
        "id": "zk2k4el4Sbzc"
      },
      "source": [
        "## Function that evaluates the population, does a ranking, and creates next generation through elitism, crossover and mutation"
      ]
    },
    {
      "cell_type": "code",
      "execution_count": 0,
      "metadata": {
        "colab": {},
        "colab_type": "code",
        "id": "Phb805dKIbjs"
      },
      "outputs": [],
      "source": [
        "def natural_selection(population,maze,initial_position,final_position,elitism_percentage,mutation_percentage): #input population, maze to solve, initial position and goal, desired percentage of elitism and mutation rate\n",
        "\n",
        "    numb_elements=len(population)\n",
        "    length_elements=len(population[0]) \n",
        "    \n",
        "    resultsTrue=[] #lists for chromosomes and its performance \n",
        "    fitnessTrue=[] \n",
        "    resultsFalse=[]\n",
        "    fitnessFalse=[]\n",
        "    \n",
        "    for i in range(numb_elements): #run each chromosome and separate its result considering whether or not they rach the goal\n",
        "        row_results=run(population[i],maze,initial_position,final_position) \n",
        "        if row_results[0]==True:\n",
        "            fitnessTrue.append(row_results[1]) #number of steps\n",
        "            resultsTrue.append(row_results[2]) \n",
        "        elif row_results[0]==False:\n",
        "            fitnessFalse.append(np.linalg.norm(np.asarray(row_results[1])-np.asarray(final_position))) #distance to goal\n",
        "            resultsFalse.append(row_results[2])\n",
        "            \n",
        "    sortedTrue=sorted(fitnessTrue)  #sort the performance lists\n",
        "    sortedFalse=sorted(fitnessFalse)\n",
        "    \n",
        "    results=[]\n",
        "    \n",
        "    while len(resultsTrue)>0: #sort the chromosomes, first those that reach the goal and then the others\n",
        "        for i in range(len(fitnessTrue)):\n",
        "            if fitnessTrue[i]==sortedTrue[0]:\n",
        "                results.append(resultsTrue[i])\n",
        "                resultsTrue.pop(i)\n",
        "                fitnessTrue.pop(i)\n",
        "                sortedTrue.pop(0)\n",
        "                break\n",
        "    while len(resultsFalse)>0:\n",
        "        for i in range(len(fitnessFalse)):\n",
        "            if fitnessFalse[i]==sortedFalse[0]:\n",
        "                results.append(resultsFalse[i])\n",
        "                resultsFalse.pop(i)\n",
        "                fitnessFalse.pop(i)\n",
        "                sortedFalse.pop(0)\n",
        "                break\n",
        "   \n",
        "    parents=[]\n",
        "    n=round(elitism_percentage*numb_elements/100) #number of elite chromosomes\n",
        "    for i in range(n): #best performing chromosomes go to next population\n",
        "        parents.append(results[i])\n",
        " \n",
        "    m=mutation_percentage/100 #mutation rate\n",
        "    children=parents.copy()\n",
        "    \n",
        "    while len(children)<numb_elements: #update the list until next generation has the same number of individuals\n",
        "        \n",
        "        point1=rd.randint(0,length_elements/2) #two point crossover\n",
        "        point2=rd.randint(length_elements/2,length_elements)\n",
        "        parent1,parent2=rd.sample(parents,2)\n",
        "        child1= parent1[:point1] +parent2[point1:point2] +parent1[point2:]\n",
        "        child2= parent2[:point1] +parent1[point1:point2] +parent2[point2:]\n",
        "\n",
        "        nchild1=''\n",
        "        nchild2=''\n",
        "        while len(nchild1)<length_elements: #randomly mutate the children\n",
        "            if choice([True, False],p=[1-m,m])==True:\n",
        "                nchild1=nchild1+child1[len(nchild1)]\n",
        "            else:\n",
        "                nchild1=nchild1+str(rd.randint(0,1))\n",
        "            if choice([True, False],p=[1-m,m])==True:\n",
        "                nchild2=nchild2+child2[len(nchild2)]\n",
        "            else:\n",
        "                nchild2=nchild2+str(rd.randint(0,1))\n",
        "       \n",
        "        children.append(nchild1)\n",
        "        children.append(nchild2)\n",
        "\n",
        "    return children #output the next generation"
      ]
    },
    {
      "cell_type": "markdown",
      "metadata": {
        "colab_type": "text",
        "id": "nUZbFsJ6V3aL"
      },
      "source": [
        "## Function that creates a an initial population and evolves it a certain number of generations"
      ]
    },
    {
      "cell_type": "code",
      "execution_count": 0,
      "metadata": {
        "colab": {},
        "colab_type": "code",
        "id": "bjOVvFg1Ibjw"
      },
      "outputs": [],
      "source": [
        "def main(numb_elements,length_elements,maze,initial_position,final_position,elitism_percentage,mutation_percentage,numb_generations): #input all variables\n",
        "    \n",
        "    chroms=[]\n",
        "    gens=[]\n",
        "    \n",
        "    population=initial_population(numb_elements,length_elements) #create initial population\n",
        "    \n",
        "    for i in range(numb_generations): #iterate a certain number of generations \n",
        "        population=natural_selection(population,maze,initial_position,final_position,elitism_percentage,mutation_percentage)\n",
        "        \n",
        "        if i%5==0: #save the best performing chromosome each 5 iterations and print it (for visualization purposes)\n",
        "            finish,final,chrom=run(population[0],maze,initial_position,final_position)\n",
        "            chroms.append(chrom)\n",
        "            gens.append(i)\n",
        "            if finish==True:\n",
        "                print('Generation ',i,'. Reaches the goal after ',final,' steps. Chromosome: ', chrom)\n",
        "            elif finish==False:\n",
        "                print('Generation ',i,'. Does not reach the goal, final position: ',final,' . Chromosome: ', chrom)\n",
        "    \n",
        "    return chroms,gens #output best chromosome each 5 iterations and generation number"
      ]
    },
    {
      "cell_type": "markdown",
      "metadata": {
        "colab_type": "text",
        "id": "va7b1u3qW1-y"
      },
      "source": [
        "## Try the code!!"
      ]
    },
    {
      "cell_type": "code",
      "execution_count": 0,
      "metadata": {
        "colab": {
          "base_uri": "https://localhost:8080/",
          "height": 202
        },
        "colab_type": "code",
        "id": "W9qY1TJ4Ibjy",
        "outputId": "883afb0b-4f82-4dfd-dc54-68d0b110db33"
      },
      "outputs": [
        {
          "name": "stdout",
          "output_type": "stream",
          "text": [
            "Generation  0 . Does not reach the goal, final position:  [7, 4]  . Chromosome:  01100111101000111011010010110111001101011101000101\n",
            "Generation  5 . Reaches the goal after  23  steps. Chromosome:  10110011111111011011011111110101111101110101000100\n",
            "Generation  10 . Reaches the goal after  21  steps. Chromosome:  10110011111111110111111111010101011101110001000110\n",
            "Generation  15 . Reaches the goal after  19  steps. Chromosome:  11111011111111110111110111010101011100010100011011\n",
            "Generation  20 . Reaches the goal after  19  steps. Chromosome:  11111011111111110111110111010101011100010100011011\n",
            "Generation  25 . Reaches the goal after  18  steps. Chromosome:  11111011111111110111110111010101010100010100001011\n",
            "Generation  30 . Reaches the goal after  18  steps. Chromosome:  11111011111111110111110111010101010100010100001011\n",
            "Generation  35 . Reaches the goal after  17  steps. Chromosome:  10111111111111110111010111010101010000010011100110\n",
            "Generation  40 . Reaches the goal after  17  steps. Chromosome:  10111111111111110111010111010101010000010011100110\n",
            "Generation  45 . Reaches the goal after  17  steps. Chromosome:  10111111111111110111010111010101010000010011100110\n",
            "Generation  50 . Reaches the goal after  17  steps. Chromosome:  10111111111111110111010111010101010000010011100110\n"
          ]
        }
      ],
      "source": [
        "numb_elements=100\n",
        "length_elements=50\n",
        "\n",
        "maze=[[1,1,1,1,1,1,1,1,1,1,1,1], #maze such that 1 are walls\n",
        "      [1,0,0,0,0,0,0,0,0,0,0,1],\n",
        "      [1,0,0,0,0,0,0,0,0,0,0,1],\n",
        "      [1,0,0,1,0,0,0,0,0,0,0,1],\n",
        "      [1,0,0,1,0,1,1,1,1,0,0,1],\n",
        "      [1,0,0,1,0,0,0,0,0,0,0,1],\n",
        "      [1,0,0,1,0,0,0,0,0,0,0,1],\n",
        "      [1,0,0,1,0,0,1,1,1,1,0,1],\n",
        "      [1,0,0,1,0,0,1,0,0,0,0,1],\n",
        "      [1,0,0,1,0,0,1,0,0,0,0,1],\n",
        "      [1,0,0,1,0,0,0,0,0,0,0,1],\n",
        "      [1,1,1,1,1,1,1,1,1,1,1,1]]\n",
        "\n",
        "final_position=[9,9]\n",
        "initial_position=[3,1]\n",
        "\n",
        "elitism_percentage=15\n",
        "mutation_percentage=10\n",
        "numb_generations=51\n",
        "\n",
        "\n",
        "chroms,gens=main(numb_elements,length_elements,maze,initial_position,final_position,elitism_percentage,mutation_percentage,numb_generations)"
      ]
    },
    {
      "cell_type": "markdown",
      "metadata": {
        "colab_type": "text",
        "id": "xwVKsNDsXT5Y"
      },
      "source": [
        "*Note*: if a more complex maze is used the algorithm might not find the solution (e.g try `initial_position= [9,1]` ). To solve this a better fitness function should be used, for example try to minimize useless moves (go back and forth or hit the wall) to boost exploration."
      ]
    },
    {
      "cell_type": "markdown",
      "metadata": {
        "colab_type": "text",
        "id": "mfYaUtYVYOHw"
      },
      "source": [
        "## Make some nice plots\n",
        "\n",
        "*Note*: this function was just for showing results and code might not be too smooth"
      ]
    },
    {
      "cell_type": "code",
      "execution_count": 0,
      "metadata": {
        "colab": {
          "base_uri": "https://localhost:8080/",
          "height": 623
        },
        "colab_type": "code",
        "id": "qYEt0h-tIbj2",
        "outputId": "1948a576-5f45-4174-b88b-bf06c9f88822"
      },
      "outputs": [
        {
          "data": {
            "image/png": "[encoded data removed]",
            "text/plain": [
              "<Figure size 360x360 with 1 Axes>"
            ]
          },
          "metadata": {
            "tags": []
          },
          "output_type": "display_data"
        },
        {
          "data": {
            "image/png": "[encoded data removed]",
            "text/plain": [
              "<Figure size 360x360 with 1 Axes>"
            ]
          },
          "metadata": {
            "tags": []
          },
          "output_type": "display_data"
        },
        {
          "data": {
            "image/png": "[encoded data removed]",
            "text/plain": [
              "<Figure size 360x360 with 1 Axes>"
            ]
          },
          "metadata": {
            "tags": []
          },
          "output_type": "display_data"
        }
      ],
      "source": [
        "import numpy as np\n",
        "import matplotlib.pyplot as plt\n",
        "\n",
        "for chromosome,n in zip(chroms,gens):\n",
        "    \n",
        "    position=[3,1]\n",
        "    \n",
        "    maze=[[1,1,1,1,1,1,1,1,1,1,1,1],\n",
        "      [1,0,0,0,0,0,0,0,0,0,0,1],\n",
        "      [1,0,0,0,0,0,0,0,0,0,0,1],\n",
        "      [1,16,0,1,0,0,0,0,0,0,0,1],\n",
        "      [1,0,0,1,0,1,1,1,1,0,0,1],\n",
        "      [1,0,0,1,0,0,0,0,0,0,0,1],\n",
        "      [1,0,0,1,0,0,0,0,0,0,0,1],\n",
        "      [1,0,0,1,0,0,1,1,1,1,0,1],\n",
        "      [1,0,0,1,0,0,1,0,0,0,0,1],\n",
        "      [1,0,0,1,0,0,1,0,0,19,0,1],\n",
        "      [1,0,0,1,0,0,0,0,0,0,0,1],\n",
        "      [1,1,1,1,1,1,1,1,1,1,1,1]]\n",
        "    \n",
        "    for i in range(int(len(chromosome)/2)):\n",
        "        if (chromosome[(2*i):(2*i+2)])=='00':\n",
        "            if (maze[position[0]][position[1]-1])==0:\n",
        "                maze[position[0]][position[1]-1]=2\n",
        "            if (maze[position[0]][position[1]-1])!=1:\n",
        "                position[1]=position[1]-1\n",
        "        elif (chromosome[(2*i):(2*i+2)])=='10':\n",
        "            if (maze[position[0]-1][position[1]])==0:\n",
        "                maze[position[0]-1][position[1]]=2\n",
        "            if (maze[position[0]-1][position[1]])!=1:\n",
        "                position[0]=position[0]-1\n",
        "        elif (chromosome[(2*i):(2*i+2)])=='01':\n",
        "            if (maze[position[0]+1][position[1]])==0:\n",
        "                maze[position[0]+1][position[1]]=2\n",
        "            if (maze[position[0]+1][position[1]])!=1:\n",
        "                position[0]=position[0]+1\n",
        "        elif (chromosome[(2*i):(2*i+2)])=='11':\n",
        "            if (maze[position[0]][position[1]+1])==0:\n",
        "                maze[position[0]][position[1]+1]=2\n",
        "            if (maze[position[0]][position[1]+1])!=1:\n",
        "                position[1]=position[1]+1\n",
        "                \n",
        "        if position==[9,9]:\n",
        "            break\n",
        "        \n",
        "\n",
        "    for i in range(len(maze)):\n",
        "        for j in range(len(maze[0])):\n",
        "            if maze[i][j]==0:\n",
        "                maze[i][j]=20\n",
        "            elif maze[i][j]==1:\n",
        "                maze[i][j]=0\n",
        "            elif maze[i][j]==2:\n",
        "                maze[i][j]=2\n",
        "\n",
        "    font = {\n",
        "            'color':  'white',\n",
        "            'weight': 'bold',\n",
        "            'size': 14,\n",
        "            }\n",
        "\n",
        "    gen='Generation: '+str(n)\n",
        "    \n",
        "    plt.figure(figsize=(5,5))\n",
        "    img=plt.imshow(maze);\n",
        "    plt.text(0.4,11.25,gen,fontdict=font)\n",
        "    img.set_cmap('nipy_spectral')\n",
        "    plt.axis('off')\n",
        "    plt.savefig('gen'+str(n)+'.png')\n",
        "    plt.show()"
      ]
    },
    {
      "cell_type": "code",
      "execution_count": null,
      "metadata": {},
      "outputs": [],
      "source": []
    }
  ]
}